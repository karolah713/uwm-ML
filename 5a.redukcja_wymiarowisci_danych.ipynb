{
 "cells": [
  {
   "cell_type": "markdown",
   "metadata": {},
   "source": [
    "# 5a. Redukcja wymiarowości danych"
   ]
  },
  {
   "cell_type": "code",
   "execution_count": 1,
   "metadata": {},
   "outputs": [],
   "source": [
    "import numpy as np\n",
    "import matplotlib.pyplot as plt\n",
    "from sklearn.datasets import fetch_california_housing, fetch_openml\n",
    "from sklearn.decomposition import PCA"
   ]
  },
  {
   "cell_type": "code",
   "execution_count": 17,
   "metadata": {},
   "outputs": [],
   "source": [
    "data = fetch_california_housing(as_frame=True)['data']"
   ]
  },
  {
   "cell_type": "markdown",
   "metadata": {},
   "source": [
    "## Zadania\n",
    "\n",
    "1. Przygotować funkcję, która na podstawie algorytmu PCA wyznaczy minimalną liczbę głównych składowych objaśniających przekazany w parametrze współczynnik wariancji."
   ]
  },
  {
   "cell_type": "code",
   "execution_count": 47,
   "metadata": {},
   "outputs": [
    {
     "data": {
      "text/plain": [
       "4"
      ]
     },
     "execution_count": 47,
     "metadata": {},
     "output_type": "execute_result"
    }
   ],
   "source": [
    "def find_n_components(data, s=0.95):\n",
    "    pca = PCA(n_components=s)\n",
    "    pca.fit_transform(data)\n",
    "    return pca.n_components_\n",
    "\n",
    "find_n_components(data=data, s=0.99999)\n"
   ]
  },
  {
   "cell_type": "code",
   "execution_count": 50,
   "metadata": {},
   "outputs": [
    {
     "name": "stdout",
     "output_type": "stream",
     "text": [
      "[0.99978933 0.99990261 0.99998589 0.99999233]\n",
      "3\n"
     ]
    }
   ],
   "source": [
    "# rozwiązanie kolegi z grupy ale dla mnie niejasne i daje dziwne wyniki\n",
    "def min_components(data, var_tresh=.95):\n",
    "    pca = PCA(n_components=var_tresh)\n",
    "    pca.fit_transform(data)\n",
    "    variance = np.cumsum(pca.explained_variance_ratio_)\n",
    "    print(variance)\n",
    "    return np.argmax(variance >= var_tresh)\n",
    "\n",
    "print(min_components(data=data, var_tresh=.99999))"
   ]
  },
  {
   "cell_type": "code",
   "execution_count": 38,
   "metadata": {},
   "outputs": [
    {
     "data": {
      "text/plain": [
       "[<matplotlib.lines.Line2D at 0x1d324475730>]"
      ]
     },
     "execution_count": 38,
     "metadata": {},
     "output_type": "execute_result"
    },
    {
     "data": {
      "image/png": "[encoded data removed]",
      "text/plain": [
       "<Figure size 640x480 with 1 Axes>"
      ]
     },
     "metadata": {},
     "output_type": "display_data"
    }
   ],
   "source": [
    "components = np.arange(1, data.shape[1] - 1)\n",
    "variance = []\n",
    "\n",
    "for i in components:\n",
    "    pca = PCA(n_components=i)\n",
    "    pca.fit_transform(data)\n",
    "    variance.append(np.cumsum(pca.explained_variance_ratio_)[-1])\n",
    "\n",
    "plt.plot(components, variance)\n"
   ]
  },
  {
   "cell_type": "markdown",
   "metadata": {},
   "source": [
    "2. Przygotować klasę Compressor, która przyjmie w inicjalizatorze zbiór danych w postaci ramki oraz oczekiwany współczynnik wariancji wyjaśnionej i będzie posiadała następujące metody:\n",
    "   1. compress: zredukuje rozmiar danych i usunie oryginalną ramkę\n",
    "   2. inverse: przywróci dane do pierwotnego rozmiaru \n",
    "   3. Przy implementacji wykorzystać metodę PCA    "
   ]
  },
  {
   "cell_type": "code",
   "execution_count": 27,
   "metadata": {},
   "outputs": [],
   "source": [
    "class Compressor:\n",
    "    \n",
    "    def __init__(self,n_components, data) -> None:\n",
    "        self.n_components = n_components\n",
    "        self.data = data\n",
    "        self.pca = PCA(self.n_components)\n",
    "\n",
    "    def compress(self):       \n",
    "        data_compressed = self.pca.fit_transform(self.data)\n",
    "        return data_compressed\n",
    "\n",
    "    def inverse(self, data_compressed):\n",
    "        data_inversed = self.pca.inverse_transform(data_compressed)\n",
    "        return data_inversed"
   ]
  },
  {
   "cell_type": "code",
   "execution_count": 52,
   "metadata": {},
   "outputs": [
    {
     "data": {
      "text/plain": [
       "(20640, 8)"
      ]
     },
     "execution_count": 52,
     "metadata": {},
     "output_type": "execute_result"
    }
   ],
   "source": [
    "c1 = Compressor(0.9999, data=data)\n",
    "data.shape"
   ]
  },
  {
   "cell_type": "code",
   "execution_count": 53,
   "metadata": {},
   "outputs": [
    {
     "data": {
      "text/plain": [
       "(20640, 2)"
      ]
     },
     "execution_count": 53,
     "metadata": {},
     "output_type": "execute_result"
    }
   ],
   "source": [
    "compressed_data = c1.compress()\n",
    "compressed_data.shape"
   ]
  },
  {
   "cell_type": "code",
   "execution_count": 30,
   "metadata": {},
   "outputs": [
    {
     "data": {
      "text/plain": [
       "(20640, 8)"
      ]
     },
     "execution_count": 30,
     "metadata": {},
     "output_type": "execute_result"
    }
   ],
   "source": [
    "inverse_data = c1.inverse(compressed_data)\n",
    "inverse_data.shape"
   ]
  },
  {
   "cell_type": "markdown",
   "metadata": {},
   "source": [
    "3. Przygotować potok dla zbioru danych *califormia_housing*, który wyznaczy najbardziej optymalną liczbe głównych składowych dla zadania regresji przeprowadzonego za pomocą algorytmu regresji liniowej.\n",
    "4. Porównać wynik uzyskany w zadaniu 3. za pomocą metody \"łokcia\" reprezentującego najbardziej optymalną liczbę głównych składowych."
   ]
  },
  {
   "cell_type": "code",
   "execution_count": 124,
   "metadata": {},
   "outputs": [],
   "source": [
    "from sklearn.model_selection import train_test_split\n",
    "from sklearn.preprocessing import MinMaxScaler\n",
    "from sklearn.pipeline import Pipeline\n",
    "from sklearn.linear_model import LinearRegression\n",
    "from sklearn.decomposition import PCA\n",
    "from sklearn.datasets import fetch_california_housing"
   ]
  },
  {
   "cell_type": "code",
   "execution_count": 88,
   "metadata": {},
   "outputs": [
    {
     "data": {
      "text/html": [
       "<div>\n",
       "<style scoped>\n",
       "    .dataframe tbody tr th:only-of-type {\n",
       "        vertical-align: middle;\n",
       "    }\n",
       "\n",
       "    .dataframe tbody tr th {\n",
       "        vertical-align: top;\n",
       "    }\n",
       "\n",
       "    .dataframe thead th {\n",
       "        text-align: right;\n",
       "    }\n",
       "</style>\n",
       "<table border=\"1\" class=\"dataframe\">\n",
       "  <thead>\n",
       "    <tr style=\"text-align: right;\">\n",
       "      <th></th>\n",
       "      <th>MedInc</th>\n",
       "      <th>HouseAge</th>\n",
       "      <th>AveRooms</th>\n",
       "      <th>AveBedrms</th>\n",
       "      <th>Population</th>\n",
       "      <th>AveOccup</th>\n",
       "      <th>Latitude</th>\n",
       "      <th>Longitude</th>\n",
       "    </tr>\n",
       "  </thead>\n",
       "  <tbody>\n",
       "    <tr>\n",
       "      <th>0</th>\n",
       "      <td>8.3252</td>\n",
       "      <td>41.0</td>\n",
       "      <td>6.984127</td>\n",
       "      <td>1.023810</td>\n",
       "      <td>322.0</td>\n",
       "      <td>2.555556</td>\n",
       "      <td>37.88</td>\n",
       "      <td>-122.23</td>\n",
       "    </tr>\n",
       "    <tr>\n",
       "      <th>1</th>\n",
       "      <td>8.3014</td>\n",
       "      <td>21.0</td>\n",
       "      <td>6.238137</td>\n",
       "      <td>0.971880</td>\n",
       "      <td>2401.0</td>\n",
       "      <td>2.109842</td>\n",
       "      <td>37.86</td>\n",
       "      <td>-122.22</td>\n",
       "    </tr>\n",
       "    <tr>\n",
       "      <th>2</th>\n",
       "      <td>7.2574</td>\n",
       "      <td>52.0</td>\n",
       "      <td>8.288136</td>\n",
       "      <td>1.073446</td>\n",
       "      <td>496.0</td>\n",
       "      <td>2.802260</td>\n",
       "      <td>37.85</td>\n",
       "      <td>-122.24</td>\n",
       "    </tr>\n",
       "    <tr>\n",
       "      <th>3</th>\n",
       "      <td>5.6431</td>\n",
       "      <td>52.0</td>\n",
       "      <td>5.817352</td>\n",
       "      <td>1.073059</td>\n",
       "      <td>558.0</td>\n",
       "      <td>2.547945</td>\n",
       "      <td>37.85</td>\n",
       "      <td>-122.25</td>\n",
       "    </tr>\n",
       "    <tr>\n",
       "      <th>4</th>\n",
       "      <td>3.8462</td>\n",
       "      <td>52.0</td>\n",
       "      <td>6.281853</td>\n",
       "      <td>1.081081</td>\n",
       "      <td>565.0</td>\n",
       "      <td>2.181467</td>\n",
       "      <td>37.85</td>\n",
       "      <td>-122.25</td>\n",
       "    </tr>\n",
       "    <tr>\n",
       "      <th>...</th>\n",
       "      <td>...</td>\n",
       "      <td>...</td>\n",
       "      <td>...</td>\n",
       "      <td>...</td>\n",
       "      <td>...</td>\n",
       "      <td>...</td>\n",
       "      <td>...</td>\n",
       "      <td>...</td>\n",
       "    </tr>\n",
       "    <tr>\n",
       "      <th>20635</th>\n",
       "      <td>1.5603</td>\n",
       "      <td>25.0</td>\n",
       "      <td>5.045455</td>\n",
       "      <td>1.133333</td>\n",
       "      <td>845.0</td>\n",
       "      <td>2.560606</td>\n",
       "      <td>39.48</td>\n",
       "      <td>-121.09</td>\n",
       "    </tr>\n",
       "    <tr>\n",
       "      <th>20636</th>\n",
       "      <td>2.5568</td>\n",
       "      <td>18.0</td>\n",
       "      <td>6.114035</td>\n",
       "      <td>1.315789</td>\n",
       "      <td>356.0</td>\n",
       "      <td>3.122807</td>\n",
       "      <td>39.49</td>\n",
       "      <td>-121.21</td>\n",
       "    </tr>\n",
       "    <tr>\n",
       "      <th>20637</th>\n",
       "      <td>1.7000</td>\n",
       "      <td>17.0</td>\n",
       "      <td>5.205543</td>\n",
       "      <td>1.120092</td>\n",
       "      <td>1007.0</td>\n",
       "      <td>2.325635</td>\n",
       "      <td>39.43</td>\n",
       "      <td>-121.22</td>\n",
       "    </tr>\n",
       "    <tr>\n",
       "      <th>20638</th>\n",
       "      <td>1.8672</td>\n",
       "      <td>18.0</td>\n",
       "      <td>5.329513</td>\n",
       "      <td>1.171920</td>\n",
       "      <td>741.0</td>\n",
       "      <td>2.123209</td>\n",
       "      <td>39.43</td>\n",
       "      <td>-121.32</td>\n",
       "    </tr>\n",
       "    <tr>\n",
       "      <th>20639</th>\n",
       "      <td>2.3886</td>\n",
       "      <td>16.0</td>\n",
       "      <td>5.254717</td>\n",
       "      <td>1.162264</td>\n",
       "      <td>1387.0</td>\n",
       "      <td>2.616981</td>\n",
       "      <td>39.37</td>\n",
       "      <td>-121.24</td>\n",
       "    </tr>\n",
       "  </tbody>\n",
       "</table>\n",
       "<p>20640 rows × 8 columns</p>\n",
       "</div>"
      ],
      "text/plain": [
       "       MedInc  HouseAge  AveRooms  AveBedrms  Population  AveOccup  Latitude  \\\n",
       "0      8.3252      41.0  6.984127   1.023810       322.0  2.555556     37.88   \n",
       "1      8.3014      21.0  6.238137   0.971880      2401.0  2.109842     37.86   \n",
       "2      7.2574      52.0  8.288136   1.073446       496.0  2.802260     37.85   \n",
       "3      5.6431      52.0  5.817352   1.073059       558.0  2.547945     37.85   \n",
       "4      3.8462      52.0  6.281853   1.081081       565.0  2.181467     37.85   \n",
       "...       ...       ...       ...        ...         ...       ...       ...   \n",
       "20635  1.5603      25.0  5.045455   1.133333       845.0  2.560606     39.48   \n",
       "20636  2.5568      18.0  6.114035   1.315789       356.0  3.122807     39.49   \n",
       "20637  1.7000      17.0  5.205543   1.120092      1007.0  2.325635     39.43   \n",
       "20638  1.8672      18.0  5.329513   1.171920       741.0  2.123209     39.43   \n",
       "20639  2.3886      16.0  5.254717   1.162264      1387.0  2.616981     39.37   \n",
       "\n",
       "       Longitude  \n",
       "0        -122.23  \n",
       "1        -122.22  \n",
       "2        -122.24  \n",
       "3        -122.25  \n",
       "4        -122.25  \n",
       "...          ...  \n",
       "20635    -121.09  \n",
       "20636    -121.21  \n",
       "20637    -121.22  \n",
       "20638    -121.32  \n",
       "20639    -121.24  \n",
       "\n",
       "[20640 rows x 8 columns]"
      ]
     },
     "execution_count": 88,
     "metadata": {},
     "output_type": "execute_result"
    }
   ],
   "source": [
    "data"
   ]
  },
  {
   "cell_type": "code",
   "execution_count": 89,
   "metadata": {},
   "outputs": [
    {
     "data": {
      "text/plain": [
       "4"
      ]
     },
     "execution_count": 89,
     "metadata": {},
     "output_type": "execute_result"
    }
   ],
   "source": [
    "pca = PCA(n_components=0.99999)\n",
    "data_reduced = pca.fit_transform(data)\n",
    "data_reduced.shape\n",
    "pca.n_components_"
   ]
  },
  {
   "cell_type": "code",
   "execution_count": 90,
   "metadata": {},
   "outputs": [
    {
     "data": {
      "text/plain": [
       "(20640, 8)"
      ]
     },
     "execution_count": 90,
     "metadata": {},
     "output_type": "execute_result"
    }
   ],
   "source": [
    "# Wczytanie danych i podział na cechy i target\n",
    "ca_housing_data = fetch_california_housing()\n",
    "X = ca_housing_data.data\n",
    "y = ca_housing_data.target\n",
    "X.shape"
   ]
  },
  {
   "cell_type": "code",
   "execution_count": 106,
   "metadata": {},
   "outputs": [],
   "source": [
    "# Podział danych na zbiór treningowy i testowy\n",
    "X_train, X_test, y_train, y_test = train_test_split(X, y, test_size=0.2, random_state=42)\n"
   ]
  },
  {
   "cell_type": "code",
   "execution_count": 123,
   "metadata": {},
   "outputs": [
    {
     "name": "stdout",
     "output_type": "stream",
     "text": [
      "mse_with_pca: 1.3058954401350902\n",
      "best_mse: inf\n",
      "mse_with_pca: 1.2924753111096619\n",
      "best_mse: 1.3058954401350902\n",
      "mse_with_pca: 0.6295323474890342\n",
      "best_mse: 1.2924753111096619\n",
      "mse_with_pca: 0.5513150840302492\n",
      "best_mse: 0.6295323474890342\n",
      "mse_with_pca: 0.5504490289949073\n",
      "best_mse: 0.5513150840302492\n",
      "mse_with_pca: 0.5493641091555412\n",
      "best_mse: 0.5504490289949073\n",
      "mse_with_pca: 0.5482556206190308\n",
      "best_mse: 0.5493641091555412\n",
      "mse_with_pca: 0.555891598695244\n",
      "best_mse: 0.5482556206190308\n",
      "Best number of principal components: 7\n",
      "Mean squared error with the best number of components: 0.5482556206190308\n",
      "None\n"
     ]
    }
   ],
   "source": [
    "# funkcja do znajdowania najlepsnajlepszej liczby komponentow\n",
    "def find_bect_components_nb(input_data):\n",
    "    X = input_data.data\n",
    "    y = input_data.target\n",
    "    X_train, X_test, y_train, y_test = train_test_split(X, y, test_size=0.2, random_state=42)\n",
    "\n",
    "    # Iterate through different numbers of principal components\n",
    "    best_mse = float('inf')\n",
    "    best_n_components = None\n",
    "    for n_component in range(1, data.shape[1] + 1):\n",
    "        # Define pipeline with PCA\n",
    "        ca_housing_pipe = Pipeline([\n",
    "        ('scaler', MinMaxScaler(feature_range=(0,1))),\n",
    "        ('pca', PCA(n_components=n_component)),\n",
    "        ('regressor', LinearRegression())\n",
    "    ])\n",
    "\n",
    "        # Fit the pipeline with PCA\n",
    "        ca_housing_pipe.fit(X_train, y_train)\n",
    "\n",
    "        # Evaluate the model with PCA on the test set\n",
    "        y_pred_with_pca = ca_housing_pipe.predict(X_test)\n",
    "        mse_with_pca = np.mean((y_test - y_pred_with_pca)**2)\n",
    "        print(f'mse_with_pca: {mse_with_pca}')\n",
    "        print(f'best_mse: {best_mse}')\n",
    "\n",
    "        # Update the best MSE (Mean squared error) and best number of components if necessary\n",
    "        if mse_with_pca < best_mse:\n",
    "            best_mse = mse_with_pca\n",
    "            best_n_components = n_component\n",
    "\n",
    "    # Display the best number of principal components and corresponding MSE\n",
    "    print(\"Best number of principal components:\", best_n_components)\n",
    "    print(\"Mean squared error with the best number of components:\", best_mse)\n",
    "    \n",
    "print(find_bect_components_nb(ca_housing_data))"
   ]
  },
  {
   "cell_type": "code",
   "execution_count": 95,
   "metadata": {},
   "outputs": [
    {
     "data": {
      "text/plain": [
       "[<matplotlib.lines.Line2D at 0x1d3292d4770>]"
      ]
     },
     "execution_count": 95,
     "metadata": {},
     "output_type": "execute_result"
    },
    {
     "data": {
      "image/png": "[encoded data removed]",
      "text/plain": [
       "<Figure size 640x480 with 1 Axes>"
      ]
     },
     "metadata": {},
     "output_type": "display_data"
    }
   ],
   "source": [
    "components = np.arange(1, X.shape[1] - 1)\n",
    "variance = []\n",
    "\n",
    "for i in components:\n",
    "    pca = PCA(n_components=i)\n",
    "    pca.fit_transform(data)\n",
    "    variance.append(np.cumsum(pca.explained_variance_ratio_)[-1])\n",
    "\n",
    "plt.plot(components, variance)"
   ]
  }
 ],
 "metadata": {
  "kernelspec": {
   "display_name": ".venv",
   "language": "python",
   "name": "python3"
  },
  "language_info": {
   "codemirror_mode": {
    "name": "ipython",
    "version": 3
   },
   "file_extension": ".py",
   "mimetype": "text/x-python",
   "name": "python",
   "nbconvert_exporter": "python",
   "pygments_lexer": "ipython3",
   "version": "3.12.2"
  }
 },
 "nbformat": 4,
 "nbformat_minor": 2
}
